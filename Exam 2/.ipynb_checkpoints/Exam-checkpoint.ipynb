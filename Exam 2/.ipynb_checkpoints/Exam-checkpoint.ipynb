{
 "cells": [
  {
   "cell_type": "code",
   "execution_count": 267,
   "metadata": {},
   "outputs": [],
   "source": [
    "import pandas as pd\n",
    "import numpy as np\n",
    "from sklearn.linear_model import LinearRegression\n",
    "from scipy.stats import norm\n",
    "pd.set_option('display.max_colwidth', None)\n",
    "from scipy.optimize import minimize\n",
    "from scipy.optimize import fsolve\n",
    "from scipy.integrate import quad\n",
    "import scipy.integrate as integrate\n",
    "import scipy.special as special\n",
    "import math"
   ]
  },
  {
   "cell_type": "code",
   "execution_count": 342,
   "metadata": {},
   "outputs": [],
   "source": [
    "xls = pd.ExcelFile('Dataset_ Exam 2.xlsx')\n",
    "df = pd.read_excel(xls, 'Question_2 Estimation Dataset')\n",
    "df.columns = df.columns.map(str)"
   ]
  },
  {
   "cell_type": "code",
   "execution_count": 343,
   "metadata": {},
   "outputs": [
    {
     "data": {
      "text/html": [
       "<div>\n",
       "<style scoped>\n",
       "    .dataframe tbody tr th:only-of-type {\n",
       "        vertical-align: middle;\n",
       "    }\n",
       "\n",
       "    .dataframe tbody tr th {\n",
       "        vertical-align: top;\n",
       "    }\n",
       "\n",
       "    .dataframe thead th {\n",
       "        text-align: right;\n",
       "    }\n",
       "</style>\n",
       "<table border=\"1\" class=\"dataframe\">\n",
       "  <thead>\n",
       "    <tr style=\"text-align: right;\">\n",
       "      <th></th>\n",
       "      <th>t</th>\n",
       "      <th>1</th>\n",
       "      <th>2</th>\n",
       "      <th>3</th>\n",
       "      <th>4</th>\n",
       "      <th>5</th>\n",
       "      <th>6</th>\n",
       "      <th>7</th>\n",
       "      <th>8</th>\n",
       "      <th>9</th>\n",
       "      <th>...</th>\n",
       "      <th>11</th>\n",
       "      <th>12</th>\n",
       "      <th>13</th>\n",
       "      <th>14</th>\n",
       "      <th>15</th>\n",
       "      <th>16</th>\n",
       "      <th>17</th>\n",
       "      <th>18</th>\n",
       "      <th>19</th>\n",
       "      <th>20</th>\n",
       "    </tr>\n",
       "  </thead>\n",
       "  <tbody>\n",
       "    <tr>\n",
       "      <th>0</th>\n",
       "      <td>0</td>\n",
       "      <td>0.202074</td>\n",
       "      <td>0.189858</td>\n",
       "      <td>0.217837</td>\n",
       "      <td>0.208467</td>\n",
       "      <td>0.193658</td>\n",
       "      <td>0.198569</td>\n",
       "      <td>0.189084</td>\n",
       "      <td>0.209849</td>\n",
       "      <td>0.204434</td>\n",
       "      <td>...</td>\n",
       "      <td>0.209699</td>\n",
       "      <td>0.197124</td>\n",
       "      <td>0.188491</td>\n",
       "      <td>0.212023</td>\n",
       "      <td>0.191988</td>\n",
       "      <td>0.195760</td>\n",
       "      <td>0.204147</td>\n",
       "      <td>0.200000</td>\n",
       "      <td>0.194022</td>\n",
       "      <td>0.200339</td>\n",
       "    </tr>\n",
       "    <tr>\n",
       "      <th>1</th>\n",
       "      <td>1</td>\n",
       "      <td>0.202074</td>\n",
       "      <td>0.202074</td>\n",
       "      <td>0.202074</td>\n",
       "      <td>0.202074</td>\n",
       "      <td>0.202074</td>\n",
       "      <td>0.202074</td>\n",
       "      <td>0.202074</td>\n",
       "      <td>0.202074</td>\n",
       "      <td>0.202074</td>\n",
       "      <td>...</td>\n",
       "      <td>0.202074</td>\n",
       "      <td>0.202074</td>\n",
       "      <td>0.202074</td>\n",
       "      <td>0.202074</td>\n",
       "      <td>0.202074</td>\n",
       "      <td>0.202074</td>\n",
       "      <td>0.202074</td>\n",
       "      <td>0.202074</td>\n",
       "      <td>0.202074</td>\n",
       "      <td>0.202074</td>\n",
       "    </tr>\n",
       "  </tbody>\n",
       "</table>\n",
       "<p>2 rows × 21 columns</p>\n",
       "</div>"
      ],
      "text/plain": [
       "   t         1         2         3         4         5         6         7  \\\n",
       "0  0  0.202074  0.189858  0.217837  0.208467  0.193658  0.198569  0.189084   \n",
       "1  1  0.202074  0.202074  0.202074  0.202074  0.202074  0.202074  0.202074   \n",
       "\n",
       "          8         9  ...        11        12        13        14        15  \\\n",
       "0  0.209849  0.204434  ...  0.209699  0.197124  0.188491  0.212023  0.191988   \n",
       "1  0.202074  0.202074  ...  0.202074  0.202074  0.202074  0.202074  0.202074   \n",
       "\n",
       "         16        17        18        19        20  \n",
       "0  0.195760  0.204147  0.200000  0.194022  0.200339  \n",
       "1  0.202074  0.202074  0.202074  0.202074  0.202074  \n",
       "\n",
       "[2 rows x 21 columns]"
      ]
     },
     "execution_count": 343,
     "metadata": {},
     "output_type": "execute_result"
    }
   ],
   "source": [
    "df.head(2)"
   ]
  },
  {
   "cell_type": "markdown",
   "metadata": {},
   "source": [
    "## Q2 (c)\n",
    "https://stackoverflow.com/questions/8739227/how-to-solve-a-pair-of-nonlinear-equations-using-python\n",
    "https://stackoverflow.com/questions/41687908/python-nsolve-solve-triple-of-equations"
   ]
  },
  {
   "cell_type": "code",
   "execution_count": 344,
   "metadata": {},
   "outputs": [],
   "source": [
    "signals_component = {}\n",
    "for i in range(20):\n",
    "    signals_component[i+1] =np.array(df[str(i+1)].dropna())"
   ]
  },
  {
   "cell_type": "code",
   "execution_count": 345,
   "metadata": {},
   "outputs": [
    {
     "data": {
      "text/plain": [
       "0.20115499998656788"
      ]
     },
     "execution_count": 345,
     "metadata": {},
     "output_type": "execute_result"
    }
   ],
   "source": [
    "phi = np.mean([v[0] for k,v in signals_component.items()])\n",
    "ld = phi\n",
    "D2 = 21\n",
    "phi"
   ]
  },
  {
   "cell_type": "code",
   "execution_count": 346,
   "metadata": {
    "scrolled": false
   },
   "outputs": [],
   "source": [
    "f_times_dict = {k:len(v)-1 for k,v in signals_component.items()}\n",
    "f_times_list = np.array([len(v)-1 for k,v in signals_component.items()])\n",
    "n=20"
   ]
  },
  {
   "cell_type": "code",
   "execution_count": 351,
   "metadata": {},
   "outputs": [
    {
     "data": {
      "text/plain": [
       "(170.70136796254243, 0.20218223173679964)"
      ]
     },
     "execution_count": 351,
     "metadata": {},
     "output_type": "execute_result"
    }
   ],
   "source": [
    "def equations(p):\n",
    "    c, a = p\n",
    "    return (n/c+(1/a)*np.sum([(1-c/ti)/ti for ti in f_times_list]), \n",
    "            -n/(2*a)+1/(2*a*a)*np.sum([(1-c/ti)**2 for ti in f_times_list]))\n",
    "\n",
    "c, a =  fsolve(equations, (1, 1),maxfev=100000)\n",
    "c,a"
   ]
  },
  {
   "cell_type": "code",
   "execution_count": 352,
   "metadata": {},
   "outputs": [
    {
     "name": "stdout",
     "output_type": "stream",
     "text": [
      "0.12184345824678683 0.003001562701220904\n"
     ]
    }
   ],
   "source": [
    "mu0 = (D2-ld)/c\n",
    "sigma0_2 = a*mu0**2\n",
    "print(mu0,sigma0_2)"
   ]
  },
  {
   "cell_type": "code",
   "execution_count": 353,
   "metadata": {},
   "outputs": [],
   "source": [
    "thetas = []\n",
    "sigmas = []\n",
    "phis = []\n",
    "for j in range(20):\n",
    "    i = j+1\n",
    "    length = len(signals_component[i])\n",
    "    X = np.array(range(length)).reshape((-1,1))\n",
    "    y = signals_component[i]\n",
    "    reg = LinearRegression().fit(X, y)\n",
    "    thetas.append(reg.coef_)\n",
    "    phis.append(reg.intercept_)\n",
    "    if j:\n",
    "        sigmas.append(np.sum(np.array([y[x]-reg.predict(np.array([[x]])) for x in range(1,length)])**2)/(j*(length-1)))"
   ]
  },
  {
   "cell_type": "code",
   "execution_count": 354,
   "metadata": {},
   "outputs": [],
   "source": [
    "sigma_2 = np.mean(sigmas)"
   ]
  },
  {
   "cell_type": "code",
   "execution_count": 355,
   "metadata": {},
   "outputs": [
    {
     "data": {
      "text/plain": [
       "(0.20115499998656788,\n",
       " 0.28904353668711674,\n",
       " 0.12184345824678683,\n",
       " 0.003001562701220904)"
      ]
     },
     "execution_count": 355,
     "metadata": {},
     "output_type": "execute_result"
    }
   ],
   "source": [
    "phi,sigma_2,mu0,sigma0_2"
   ]
  },
  {
   "cell_type": "markdown",
   "metadata": {},
   "source": [
    "## Q2 (d)"
   ]
  },
  {
   "cell_type": "code",
   "execution_count": 356,
   "metadata": {},
   "outputs": [],
   "source": [
    "df2 = pd.read_excel(xls, 'Question 2 Prediction Dataset')\n",
    "df2.columns = df2.columns.map(str)"
   ]
  },
  {
   "cell_type": "code",
   "execution_count": 357,
   "metadata": {},
   "outputs": [],
   "source": [
    "D2 = 21"
   ]
  },
  {
   "cell_type": "code",
   "execution_count": 358,
   "metadata": {},
   "outputs": [],
   "source": [
    "df_pred = {}\n",
    "for col in df2.columns[1:]:\n",
    "    df_pred[col] = np.array(df2[col].dropna())"
   ]
  },
  {
   "cell_type": "code",
   "execution_count": 359,
   "metadata": {},
   "outputs": [],
   "source": [
    "def mu_p(S):\n",
    "    length = len(df_pred[S])\n",
    "    return (sigma0_2*np.sum([(x-phi)*t for t,x in enumerate(df_pred[S])])+mu0*sigma_2)/ \\\n",
    "        (sigma0_2*np.sum(np.arange(length)**2)+sigma_2)\n",
    "def sigma_p(S):\n",
    "    length = len(df_pred[S])\n",
    "    return (sigma_2*sigma0_2)/(sigma0_2*np.sum(np.arange(length)**2)+sigma_2)\n",
    "def g(t,S):\n",
    "    length = len(df_pred[S])\n",
    "    return (mu_p(S)*(t+length-1)+phi-D2)/np.sqrt(sigma_p(S)*(t+length-1)**2+sigma_2)\n",
    "def F_T(t,S):\n",
    "    return (norm.cdf(g(t,S))-norm.cdf(g(0,S)))/(1-norm.cdf(g(0,S)))"
   ]
  },
  {
   "cell_type": "code",
   "execution_count": 360,
   "metadata": {},
   "outputs": [
    {
     "data": {
      "text/plain": [
       "0.5029152065869491"
      ]
     },
     "execution_count": 360,
     "metadata": {},
     "output_type": "execute_result"
    }
   ],
   "source": [
    "F_T(521.579,'21')"
   ]
  },
  {
   "cell_type": "code",
   "execution_count": 361,
   "metadata": {},
   "outputs": [
    {
     "name": "stdout",
     "output_type": "stream",
     "text": [
      "21 [521.43031]\n",
      "[0.5]\n",
      "521.5795166045941\n",
      "22 [61.51160685]\n",
      "[0.5]\n",
      "61.517269531481794\n",
      "23 [151.06243708]\n",
      "[0.5]\n",
      "151.07444379163186\n",
      "24 [172.06208475]\n",
      "[0.5]\n",
      "172.07284336303266\n",
      "25 [93.03722004]\n",
      "[0.5]\n",
      "93.0420935439947\n",
      "26 [97.78390989]\n",
      "[0.5]\n",
      "97.7889045963119\n",
      "27 [135.3130576]\n",
      "[0.5]\n",
      "135.31987697263912\n",
      "28 [109.28061199]\n",
      "[0.5]\n",
      "109.28902218155073\n",
      "29 [13.94950154]\n",
      "[0.5]\n",
      "14.105182176041094\n",
      "30 [39.55214782]\n",
      "[0.5]\n",
      "39.55522292785549\n"
     ]
    }
   ],
   "source": [
    "for j in range(21,31):\n",
    "    i = str(j)\n",
    "    def R_(t):\n",
    "        return F_T(t,i)-0.5\n",
    "    def R(t):\n",
    "        return 1-F_T(t,i)\n",
    "    soln = fsolve(R_, [10])\n",
    "    print(i,soln)\n",
    "    print(F_T(soln,i))\n",
    "    print(integrate.quad(R, 0, 10000)[0])"
   ]
  },
  {
   "cell_type": "markdown",
   "metadata": {},
   "source": [
    "## Q2 (e)"
   ]
  },
  {
   "cell_type": "code",
   "execution_count": 335,
   "metadata": {},
   "outputs": [
    {
     "name": "stdout",
     "output_type": "stream",
     "text": [
      "21 [524.97389045]\n",
      "[0.5]\n",
      "525.1257143862829\n",
      "22 [61.68449423]\n",
      "[0.5]\n",
      "61.69017914293935\n",
      "23 [150.80813423]\n",
      "[0.5]\n",
      "150.82010244864986\n",
      "24 [171.95504664]\n",
      "[0.5]\n",
      "171.9657927526233\n",
      "25 [92.86077895]\n",
      "[0.5]\n",
      "92.86564047841111\n",
      "26 [97.46025122]\n",
      "[0.5]\n",
      "97.46522428612107\n",
      "27 [135.74933923]\n",
      "[0.5]\n",
      "135.75619242745955\n",
      "28 [108.93570563]\n",
      "[0.5]\n",
      "108.9440708382618\n",
      "29 [13.94149394]\n",
      "[0.5]\n",
      "14.097446100242196\n",
      "30 [39.54294548]\n",
      "[0.5]\n",
      "39.54601995867078\n"
     ]
    }
   ],
   "source": [
    "for j in range(21,31):\n",
    "    length = len(df_pred[str(j)])\n",
    "    X = np.array(range(length)).reshape((-1,1))\n",
    "    y = df_pred[str(j)]\n",
    "    reg = LinearRegression().fit(X, y)\n",
    "    mu0 = reg.coef_\n",
    "    \n",
    "    i = str(j)\n",
    "    phi = df_pred[i][0]\n",
    "    def R_(t):\n",
    "        return F_T(t,i)-0.5\n",
    "    def R(t):\n",
    "        return 1-F_T(t,i)\n",
    "    soln = fsolve(R_, [10])\n",
    "    print(i,soln)\n",
    "    print(F_T(soln,i))\n",
    "    print(integrate.quad(R, 0, 10000)[0])\n",
    "phi = 21\n",
    "mu0 = (D2-ld)/c\n",
    "sigma0_2 = a*mu0**2"
   ]
  },
  {
   "cell_type": "markdown",
   "metadata": {},
   "source": [
    "## Q3"
   ]
  },
  {
   "cell_type": "code",
   "execution_count": 362,
   "metadata": {},
   "outputs": [],
   "source": [
    "df3 = pd.read_excel(xls, 'Question 3 Repair & Inventory')\n",
    "df3.columns = df3.columns.map(str)"
   ]
  },
  {
   "cell_type": "code",
   "execution_count": 363,
   "metadata": {},
   "outputs": [],
   "source": [
    "df3 = df3.drop(columns='t')\n",
    "df3 = np.array(df3['9'])\n",
    "df_pred['9'] = df3"
   ]
  },
  {
   "cell_type": "code",
   "execution_count": 364,
   "metadata": {},
   "outputs": [
    {
     "data": {
      "text/plain": [
       "dict_keys(['21', '22', '23', '24', '25', '26', '27', '28', '29', '30', '9'])"
      ]
     },
     "execution_count": 364,
     "metadata": {},
     "output_type": "execute_result"
    }
   ],
   "source": [
    "df_pred.keys()"
   ]
  },
  {
   "cell_type": "code",
   "execution_count": 366,
   "metadata": {},
   "outputs": [
    {
     "name": "stdout",
     "output_type": "stream",
     "text": [
      "9 [190.55282369]\n",
      "[0.5]\n",
      "190.5676399637914\n"
     ]
    }
   ],
   "source": [
    "i = '9'\n",
    "\n",
    "def R_(t):\n",
    "    return F_T(t,i)-0.5\n",
    "def R(t):\n",
    "    return 1-F_T(t,i)\n",
    "soln = fsolve(R_, [100])\n",
    "print(i,soln)\n",
    "print(F_T(soln,i))\n",
    "print(integrate.quad(R, 0, 10000)[0])"
   ]
  },
  {
   "cell_type": "code",
   "execution_count": 378,
   "metadata": {},
   "outputs": [],
   "source": [
    "cp = 50\n",
    "cf = 100\n",
    "def Cr(tr):\n",
    "    return (cp*(1-F_T(tr,i))+cf*F_T(tr,i))/integrate.quad(lambda x:1-F_T(x,i),0,tr)[0]"
   ]
  },
  {
   "cell_type": "code",
   "execution_count": 389,
   "metadata": {},
   "outputs": [
    {
     "data": {
      "text/plain": [
       "0.3011970157961235"
      ]
     },
     "execution_count": 389,
     "metadata": {},
     "output_type": "execute_result"
    }
   ],
   "source": [
    "Cr(170)"
   ]
  },
  {
   "cell_type": "code",
   "execution_count": 393,
   "metadata": {},
   "outputs": [
    {
     "data": {
      "text/plain": [
       "      fun: 0.301163111631661\n",
       " hess_inv: array([[2932.56255828]])\n",
       "      jac: array([-6.77630305e-06])\n",
       "  message: 'Optimization terminated successfully.'\n",
       "     nfev: 46\n",
       "      nit: 21\n",
       "     njev: 23\n",
       "   status: 0\n",
       "  success: True\n",
       "        x: array([170.43503861])"
      ]
     },
     "execution_count": 393,
     "metadata": {},
     "output_type": "execute_result"
    }
   ],
   "source": [
    "res = minimize(Cr,[1])\n",
    "res"
   ]
  },
  {
   "cell_type": "code",
   "execution_count": 396,
   "metadata": {},
   "outputs": [],
   "source": [
    "opt_tr = res.x[0]"
   ]
  },
  {
   "cell_type": "code",
   "execution_count": 442,
   "metadata": {},
   "outputs": [],
   "source": [
    "kh = 0.5\n",
    "ks = 200\n",
    "L = 7\n",
    "def Co(to,tr=res.x[0]):\n",
    "    return (ks*integrate.quad(lambda x:F_T(x,i),to,to+L)[0]+kh*integrate.quad(lambda x:1-F_T(x,i),to+L,tr)[0])/ \\\n",
    "            (integrate.quad(lambda x:F_T(x,i),to,to+L)[0]+integrate.quad(lambda x:1-F_T(x,i),0,tr)[0])"
   ]
  },
  {
   "cell_type": "code",
   "execution_count": 439,
   "metadata": {},
   "outputs": [],
   "source": [
    "res2 = minimize(Co,[1])"
   ]
  },
  {
   "cell_type": "code",
   "execution_count": 405,
   "metadata": {},
   "outputs": [
    {
     "data": {
      "text/plain": [
       "      fun: 0.03404403447655391\n",
       " hess_inv: array([[1201.06519859]])\n",
       "      jac: array([-1.96322799e-06])\n",
       "  message: 'Optimization terminated successfully.'\n",
       "     nfev: 46\n",
       "      nit: 5\n",
       "     njev: 23\n",
       "   status: 0\n",
       "  success: True\n",
       "        x: array([154.87290223])"
      ]
     },
     "execution_count": 405,
     "metadata": {},
     "output_type": "execute_result"
    }
   ],
   "source": [
    "res2"
   ]
  },
  {
   "cell_type": "code",
   "execution_count": 423,
   "metadata": {},
   "outputs": [],
   "source": [
    "def C_combined(var):\n",
    "    to,tr = var\n",
    "    return (ks*integrate.quad(lambda x:F_T(x,i),to,to+L)[0]+kh*integrate.quad(lambda x:1-F_T(x,i),to+L,tr)[0])/ \\\n",
    "            (integrate.quad(lambda x:F_T(x,i),to,to+L)[0]+integrate.quad(lambda x:1-F_T(x,i),0,tr)[0]) \\\n",
    "            +(cp*(1-F_T(tr,i))+cf*F_T(tr,i))/integrate.quad(lambda x:1-F_T(x,i),0,tr)[0]"
   ]
  },
  {
   "cell_type": "code",
   "execution_count": 424,
   "metadata": {},
   "outputs": [],
   "source": [
    "cons = ({'type': 'ineq', 'fun': lambda x:  x[1] - x[0] - 7})\n",
    "res3 = minimize(C_combined,(1,1),constraints=cons)"
   ]
  },
  {
   "cell_type": "code",
   "execution_count": 425,
   "metadata": {},
   "outputs": [
    {
     "data": {
      "text/plain": [
       "     fun: 0.3182976090392948\n",
       "     jac: array([-0.00129464,  0.00129038])\n",
       " message: 'Optimization terminated successfully'\n",
       "    nfev: 92\n",
       "     nit: 29\n",
       "    njev: 29\n",
       "  status: 0\n",
       " success: True\n",
       "       x: array([153.08898943, 160.08898943])"
      ]
     },
     "execution_count": 425,
     "metadata": {},
     "output_type": "execute_result"
    }
   ],
   "source": [
    "res3"
   ]
  },
  {
   "cell_type": "code",
   "execution_count": 445,
   "metadata": {},
   "outputs": [
    {
     "name": "stdout",
     "output_type": "stream",
     "text": [
      "0.3182976090392948\n",
      "0.3352071461082149\n"
     ]
    }
   ],
   "source": [
    "def total_cost(to,tr):\n",
    "    return Co(to,tr)+Cr(tr)\n",
    "print(total_cost(*res3.x))\n",
    "print(total_cost(*res2.x,*res.x))"
   ]
  },
  {
   "cell_type": "code",
   "execution_count": 434,
   "metadata": {},
   "outputs": [
    {
     "name": "stdout",
     "output_type": "stream",
     "text": [
      "153.08898943255065 160.0889894325496\n"
     ]
    }
   ],
   "source": [
    "print(*list(res3.x))"
   ]
  },
  {
   "cell_type": "code",
   "execution_count": null,
   "metadata": {},
   "outputs": [],
   "source": []
  }
 ],
 "metadata": {
  "kernelspec": {
   "display_name": "Python 3",
   "language": "python",
   "name": "python3"
  },
  "language_info": {
   "codemirror_mode": {
    "name": "ipython",
    "version": 3
   },
   "file_extension": ".py",
   "mimetype": "text/x-python",
   "name": "python",
   "nbconvert_exporter": "python",
   "pygments_lexer": "ipython3",
   "version": "3.8.3"
  }
 },
 "nbformat": 4,
 "nbformat_minor": 4
}
