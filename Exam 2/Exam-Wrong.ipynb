{
 "cells": [
  {
   "cell_type": "code",
   "execution_count": 214,
   "metadata": {},
   "outputs": [],
   "source": [
    "import pandas as pd\n",
    "import numpy as np\n",
    "from sklearn.linear_model import LinearRegression\n",
    "from scipy.stats import norm\n",
    "pd.set_option('display.max_colwidth', None)\n",
    "from scipy.optimize import minimize\n",
    "from scipy.optimize import fsolve\n",
    "from scipy.integrate import quad\n",
    "import scipy.integrate as integrate\n",
    "import scipy.special as special"
   ]
  },
  {
   "cell_type": "code",
   "execution_count": 220,
   "metadata": {},
   "outputs": [],
   "source": [
    "xls = pd.ExcelFile('Dataset_ Exam 2.xlsx')\n",
    "df = pd.read_excel(xls, 'Question_2 Estimation Dataset')\n",
    "df.columns = df.columns.map(str)"
   ]
  },
  {
   "cell_type": "code",
   "execution_count": 241,
   "metadata": {},
   "outputs": [
    {
     "data": {
      "text/html": [
       "<div>\n",
       "<style scoped>\n",
       "    .dataframe tbody tr th:only-of-type {\n",
       "        vertical-align: middle;\n",
       "    }\n",
       "\n",
       "    .dataframe tbody tr th {\n",
       "        vertical-align: top;\n",
       "    }\n",
       "\n",
       "    .dataframe thead th {\n",
       "        text-align: right;\n",
       "    }\n",
       "</style>\n",
       "<table border=\"1\" class=\"dataframe\">\n",
       "  <thead>\n",
       "    <tr style=\"text-align: right;\">\n",
       "      <th></th>\n",
       "      <th>t</th>\n",
       "      <th>1</th>\n",
       "      <th>2</th>\n",
       "      <th>3</th>\n",
       "      <th>4</th>\n",
       "      <th>5</th>\n",
       "      <th>6</th>\n",
       "      <th>7</th>\n",
       "      <th>8</th>\n",
       "      <th>9</th>\n",
       "      <th>...</th>\n",
       "      <th>11</th>\n",
       "      <th>12</th>\n",
       "      <th>13</th>\n",
       "      <th>14</th>\n",
       "      <th>15</th>\n",
       "      <th>16</th>\n",
       "      <th>17</th>\n",
       "      <th>18</th>\n",
       "      <th>19</th>\n",
       "      <th>20</th>\n",
       "    </tr>\n",
       "  </thead>\n",
       "  <tbody>\n",
       "    <tr>\n",
       "      <th>0</th>\n",
       "      <td>0</td>\n",
       "      <td>0.202074</td>\n",
       "      <td>0.189858</td>\n",
       "      <td>0.217837</td>\n",
       "      <td>0.208467</td>\n",
       "      <td>0.193658</td>\n",
       "      <td>0.198569</td>\n",
       "      <td>0.189084</td>\n",
       "      <td>0.209849</td>\n",
       "      <td>0.204434</td>\n",
       "      <td>...</td>\n",
       "      <td>0.209699</td>\n",
       "      <td>0.197124</td>\n",
       "      <td>0.188491</td>\n",
       "      <td>0.212023</td>\n",
       "      <td>0.191988</td>\n",
       "      <td>0.195760</td>\n",
       "      <td>0.204147</td>\n",
       "      <td>0.200000</td>\n",
       "      <td>0.194022</td>\n",
       "      <td>0.200339</td>\n",
       "    </tr>\n",
       "    <tr>\n",
       "      <th>1</th>\n",
       "      <td>1</td>\n",
       "      <td>0.202074</td>\n",
       "      <td>0.202074</td>\n",
       "      <td>0.202074</td>\n",
       "      <td>0.202074</td>\n",
       "      <td>0.202074</td>\n",
       "      <td>0.202074</td>\n",
       "      <td>0.202074</td>\n",
       "      <td>0.202074</td>\n",
       "      <td>0.202074</td>\n",
       "      <td>...</td>\n",
       "      <td>0.202074</td>\n",
       "      <td>0.202074</td>\n",
       "      <td>0.202074</td>\n",
       "      <td>0.202074</td>\n",
       "      <td>0.202074</td>\n",
       "      <td>0.202074</td>\n",
       "      <td>0.202074</td>\n",
       "      <td>0.202074</td>\n",
       "      <td>0.202074</td>\n",
       "      <td>0.202074</td>\n",
       "    </tr>\n",
       "  </tbody>\n",
       "</table>\n",
       "<p>2 rows × 21 columns</p>\n",
       "</div>"
      ],
      "text/plain": [
       "   t         1         2         3         4         5         6         7  \\\n",
       "0  0  0.202074  0.189858  0.217837  0.208467  0.193658  0.198569  0.189084   \n",
       "1  1  0.202074  0.202074  0.202074  0.202074  0.202074  0.202074  0.202074   \n",
       "\n",
       "          8         9  ...        11        12        13        14        15  \\\n",
       "0  0.209849  0.204434  ...  0.209699  0.197124  0.188491  0.212023  0.191988   \n",
       "1  0.202074  0.202074  ...  0.202074  0.202074  0.202074  0.202074  0.202074   \n",
       "\n",
       "         16        17        18        19        20  \n",
       "0  0.195760  0.204147  0.200000  0.194022  0.200339  \n",
       "1  0.202074  0.202074  0.202074  0.202074  0.202074  \n",
       "\n",
       "[2 rows x 21 columns]"
      ]
     },
     "execution_count": 241,
     "metadata": {},
     "output_type": "execute_result"
    }
   ],
   "source": [
    "df.head(2)"
   ]
  },
  {
   "cell_type": "markdown",
   "metadata": {},
   "source": [
    "## Q2 (c)"
   ]
  },
  {
   "cell_type": "code",
   "execution_count": 242,
   "metadata": {},
   "outputs": [],
   "source": [
    "signals_time = {}\n",
    "for index,row in df.drop(columns=['t']).iterrows():\n",
    "    if len(row.dropna()):\n",
    "        signals_time[index] = np.array(row.dropna())\n",
    "#     print(np.array(row.dropna()))\n",
    "#     print(len(row.dropna()))"
   ]
  },
  {
   "cell_type": "code",
   "execution_count": 243,
   "metadata": {},
   "outputs": [],
   "source": [
    "signals_component = {}\n",
    "for i in range(20):\n",
    "    signals_component[i+1] =np.array(df[str(i+1)].dropna())"
   ]
  },
  {
   "cell_type": "code",
   "execution_count": 244,
   "metadata": {},
   "outputs": [
    {
     "name": "stdout",
     "output_type": "stream",
     "text": [
      "0.8856568653238694\n",
      "[0.05036692]\n",
      "3.917527714380446\n",
      "2.6059532052424417\n"
     ]
    }
   ],
   "source": [
    "i = 1\n",
    "length = len(signals_component[i])\n",
    "X = np.array(range(length)).reshape((-1,1))\n",
    "y = signals_component[i]\n",
    "reg = LinearRegression().fit(X, y)\n",
    "print(reg.score(X, y))\n",
    "print(reg.coef_)\n",
    "print(reg.intercept_)\n",
    "print(np.sum(np.array([y[i]-reg.predict(np.array([[i]])) for i in range(length)])**2)/length)"
   ]
  },
  {
   "cell_type": "code",
   "execution_count": 245,
   "metadata": {},
   "outputs": [],
   "source": [
    "thetas = []\n",
    "sigmas = []\n",
    "phis = []\n",
    "for j in range(20):\n",
    "    i = j+1\n",
    "    length = len(signals_component[i])\n",
    "    X = np.array(range(length)).reshape((-1,1))\n",
    "    y = signals_component[i]\n",
    "    reg = LinearRegression().fit(X, y)\n",
    "    thetas.append(reg.coef_)\n",
    "    phis.append(reg.intercept_)\n",
    "    if j:\n",
    "        sigmas.append(np.sum(np.array([y[x]-reg.predict(np.array([[x]])) for x in range(1,length)])**2)/(j*(length-1)))"
   ]
  },
  {
   "cell_type": "code",
   "execution_count": 246,
   "metadata": {},
   "outputs": [],
   "source": [
    "phi = np.mean(signals_time[0])\n",
    "sigma_2 = np.mean(sigmas)"
   ]
  },
  {
   "cell_type": "code",
   "execution_count": 247,
   "metadata": {},
   "outputs": [],
   "source": [
    "mu0, sigma0 = norm.fit(thetas)\n",
    "sigma0_2 = sigma0**2"
   ]
  },
  {
   "cell_type": "code",
   "execution_count": 248,
   "metadata": {},
   "outputs": [
    {
     "data": {
      "text/plain": [
       "(0.20115499998656788,\n",
       " 0.28904353668711674,\n",
       " 0.06679061723847653,\n",
       " 0.00032981062685270103)"
      ]
     },
     "execution_count": 248,
     "metadata": {},
     "output_type": "execute_result"
    }
   ],
   "source": [
    "phi,sigma_2,mu0,sigma0_2"
   ]
  },
  {
   "cell_type": "markdown",
   "metadata": {},
   "source": [
    "## Q2 (d)"
   ]
  },
  {
   "cell_type": "code",
   "execution_count": 249,
   "metadata": {},
   "outputs": [],
   "source": [
    "df2 = pd.read_excel(xls, 'Question 2 Prediction Dataset')\n",
    "df2.columns = df2.columns.map(str)"
   ]
  },
  {
   "cell_type": "code",
   "execution_count": 250,
   "metadata": {},
   "outputs": [],
   "source": [
    "D2 = 21"
   ]
  },
  {
   "cell_type": "code",
   "execution_count": 251,
   "metadata": {},
   "outputs": [],
   "source": [
    "df_pred = {}\n",
    "for col in df2.columns[1:]:\n",
    "    df_pred[col] = np.array(df2[col].dropna())"
   ]
  },
  {
   "cell_type": "code",
   "execution_count": 252,
   "metadata": {},
   "outputs": [],
   "source": [
    "def mu_p(S):\n",
    "    length = len(df_pred[S])\n",
    "    return (sigma0_2*np.sum([(x-phi)*t for t,x in enumerate(df_pred[S])])+mu0*sigma_2)/ \\\n",
    "        (sigma0_2*np.sum(np.arange(length)**2)+sigma_2)\n",
    "def sigma_p(S):\n",
    "    length = len(df_pred[S])\n",
    "    return (sigma_2*sigma0_2)/(sigma0_2*np.sum(np.arange(length)**2)+sigma_2)\n",
    "def g(t,S):\n",
    "    length = len(df_pred[S])\n",
    "    return (mu_p(S)*(t+length-1)+phi-D2)/np.sqrt(sigma_p(S)*(t+length-1)**2+sigma_2)\n",
    "def F_T(t,S):\n",
    "    return (norm.cdf(g(t,S))-norm.cdf(g(0,S)))/(1-norm.cdf(g(0,S)))"
   ]
  },
  {
   "cell_type": "code",
   "execution_count": 253,
   "metadata": {},
   "outputs": [
    {
     "data": {
      "text/plain": [
       "0.49998715858905013"
      ]
     },
     "execution_count": 253,
     "metadata": {},
     "output_type": "execute_result"
    }
   ],
   "source": [
    "F_T(521.068,'21')"
   ]
  },
  {
   "cell_type": "code",
   "execution_count": 254,
   "metadata": {},
   "outputs": [
    {
     "name": "stdout",
     "output_type": "stream",
     "text": [
      "21 [521.06865446]\n",
      "[0.5]\n",
      "521.2175429626644\n",
      "22 [61.57217921]\n",
      "[0.5]\n",
      "61.577842695484996\n",
      "23 [151.06661873]\n",
      "[0.5]\n",
      "151.07862142109693\n",
      "24 [172.0500034]\n",
      "[0.5]\n",
      "172.06075892252534\n",
      "25 [93.03541232]\n",
      "[0.5]\n",
      "93.04028516246986\n",
      "26 [97.78096102]\n",
      "[0.5]\n",
      "97.78595503392484\n",
      "27 [135.30516507]\n",
      "[0.5]\n",
      "135.31198320285108\n",
      "28 [109.30147556]\n",
      "[0.5]\n",
      "109.30988407169471\n",
      "29 [13.9601191]\n",
      "[0.5]\n",
      "14.11536259082375\n",
      "30 [39.55836119]\n",
      "[0.5]\n",
      "39.561436050743744\n"
     ]
    }
   ],
   "source": [
    "for j in range(21,31):\n",
    "    i = str(j)\n",
    "    def R_(t):\n",
    "        return F_T(t,i)-0.5\n",
    "    def R(t):\n",
    "        return 1-F_T(t,i)\n",
    "    soln = fsolve(R_, [10])\n",
    "    print(i,soln)\n",
    "    print(F_T(soln,i))\n",
    "    print(integrate.quad(R, 0, 10000)[0])"
   ]
  },
  {
   "cell_type": "markdown",
   "metadata": {},
   "source": [
    "## Q2 (e)"
   ]
  },
  {
   "cell_type": "code",
   "execution_count": 217,
   "metadata": {},
   "outputs": [
    {
     "name": "stdout",
     "output_type": "stream",
     "text": [
      "21 [524.96629743]\n",
      "[0.5]\n",
      "525.1180335257291\n",
      "22 [61.69467394]\n",
      "[0.5]\n",
      "61.700355543916245\n",
      "23 [150.80940623]\n",
      "[0.5]\n",
      "150.8213701246418\n",
      "24 [171.92914714]\n",
      "[0.5]\n",
      "171.93988905884456\n",
      "25 [92.86210952]\n",
      "[0.5]\n",
      "92.86697051037353\n",
      "26 [97.45847458]\n",
      "[0.5]\n",
      "97.4634469979351\n",
      "27 [135.7390788]\n",
      "[0.5]\n",
      "135.74593063910868\n",
      "28 [108.9311664]\n",
      "[0.5]\n",
      "108.93952770938199\n",
      "29 [13.94256444]\n",
      "[0.5]\n",
      "14.09847138450041\n",
      "30 [39.5395837]\n",
      "[0.5]\n",
      "39.54265765137634\n"
     ]
    }
   ],
   "source": [
    "for j in range(21,31):\n",
    "    length = len(df_pred[str(j)])\n",
    "    X = np.array(range(length)).reshape((-1,1))\n",
    "    y = df_pred[str(j)]\n",
    "    reg = LinearRegression().fit(X, y)\n",
    "    mu0 = reg.coef_\n",
    "    \n",
    "    i = str(j)\n",
    "    phi = df_pred[i][0]\n",
    "    def R_(t):\n",
    "        return F_T(t,i)-0.5\n",
    "    def R(t):\n",
    "        return 1-F_T(t,i)\n",
    "    soln = fsolve(R_, [10])\n",
    "    print(i,soln)\n",
    "    print(F_T(soln,i))\n",
    "    print(integrate.quad(R, 0, 10000)[0])\n",
    "phi = 21\n",
    "mu0, sigma0 = norm.fit(thetas)"
   ]
  },
  {
   "cell_type": "markdown",
   "metadata": {},
   "source": [
    "## Q3"
   ]
  },
  {
   "cell_type": "code",
   "execution_count": 256,
   "metadata": {},
   "outputs": [],
   "source": [
    "df3 = pd.read_excel(xls, 'Question 3 Repair & Inventory')\n",
    "df3.columns = df3.columns.map(str)"
   ]
  },
  {
   "cell_type": "code",
   "execution_count": 257,
   "metadata": {},
   "outputs": [],
   "source": [
    "df3 = df3.drop(columns='t')\n",
    "df3 = np.array(df3['9'])\n",
    "df_pred['9'] = df3"
   ]
  },
  {
   "cell_type": "code",
   "execution_count": 258,
   "metadata": {},
   "outputs": [
    {
     "data": {
      "text/plain": [
       "dict_keys(['21', '22', '23', '24', '25', '26', '27', '28', '29', '30', '9'])"
      ]
     },
     "execution_count": 258,
     "metadata": {},
     "output_type": "execute_result"
    }
   ],
   "source": [
    "df_pred.keys()"
   ]
  },
  {
   "cell_type": "code",
   "execution_count": 259,
   "metadata": {},
   "outputs": [
    {
     "name": "stdout",
     "output_type": "stream",
     "text": [
      "9 [190.53847743]\n",
      "[0.5]\n",
      "190.55328776450833\n"
     ]
    }
   ],
   "source": [
    "i = '9'\n",
    "\n",
    "def R_(t):\n",
    "    return F_T(t,i)-0.5\n",
    "def R(t):\n",
    "    return 1-F_T(t,i)\n",
    "soln = fsolve(R_, [100])\n",
    "print(i,soln)\n",
    "print(F_T(soln,i))\n",
    "print(integrate.quad(R, 0, 10000)[0])"
   ]
  },
  {
   "cell_type": "code",
   "execution_count": 208,
   "metadata": {},
   "outputs": [
    {
     "data": {
      "text/plain": [
       "0.45856594606189316"
      ]
     },
     "execution_count": 208,
     "metadata": {},
     "output_type": "execute_result"
    }
   ],
   "source": [
    "def cost(days):\n",
    "    "
   ]
  },
  {
   "cell_type": "code",
   "execution_count": null,
   "metadata": {},
   "outputs": [],
   "source": []
  }
 ],
 "metadata": {
  "kernelspec": {
   "display_name": "Python 3",
   "language": "python",
   "name": "python3"
  },
  "language_info": {
   "codemirror_mode": {
    "name": "ipython",
    "version": 3
   },
   "file_extension": ".py",
   "mimetype": "text/x-python",
   "name": "python",
   "nbconvert_exporter": "python",
   "pygments_lexer": "ipython3",
   "version": "3.8.3"
  }
 },
 "nbformat": 4,
 "nbformat_minor": 4
}
